{
 "cells": [
  {
   "cell_type": "code",
   "execution_count": 3,
   "id": "0718d488",
   "metadata": {},
   "outputs": [],
   "source": [
    "from scipy import stats\n",
    "import numpy as np\n",
    "np.random.seed(12345678)  #fix random seed to get the same result\n",
    "n1 = 3000  # size of first sample\n",
    "n2 = 3000  # size of second sample"
   ]
  },
  {
   "cell_type": "code",
   "execution_count": 4,
   "id": "ea18bcd2",
   "metadata": {},
   "outputs": [
    {
     "data": {
      "text/plain": [
       "KstestResult(statistic=0.21366666666666667, pvalue=2.3388348510257954e-60)"
      ]
     },
     "execution_count": 4,
     "metadata": {},
     "output_type": "execute_result"
    }
   ],
   "source": [
    "rvs1 = stats.norm.rvs(size=n1, loc=0., scale=1)\n",
    "rvs2 = stats.norm.rvs(size=n2, loc=0.5, scale=1.5)\n",
    "stats.ks_2samp(rvs1, rvs2)"
   ]
  },
  {
   "cell_type": "code",
   "execution_count": 5,
   "id": "db9aaf9e",
   "metadata": {},
   "outputs": [
    {
     "data": {
      "text/plain": [
       "KstestResult(statistic=0.21233333333333337, pvalue=0.0)"
      ]
     },
     "execution_count": 5,
     "metadata": {},
     "output_type": "execute_result"
    }
   ],
   "source": [
    "n1 = 30000  # size of first sample\n",
    "n2 = 30000  # size of second sample\n",
    "rvs1 = stats.norm.rvs(size=n1, loc=0., scale=1)\n",
    "rvs2 = stats.norm.rvs(size=n2, loc=0.5, scale=1.5)\n",
    "stats.ks_2samp(rvs1, rvs2)\n"
   ]
  },
  {
   "cell_type": "code",
   "execution_count": 15,
   "id": "9780d2f6",
   "metadata": {},
   "outputs": [
    {
     "data": {
      "text/plain": [
       "KstestResult(statistic=0.2633333333333333, pvalue=1.4942294797261553e-09)"
      ]
     },
     "execution_count": 15,
     "metadata": {},
     "output_type": "execute_result"
    }
   ],
   "source": [
    "n1 = 300  # size of first sample\n",
    "n2 = 300  # size of second sample\n",
    "rvs1 = stats.norm.rvs(size=n1, loc=0., scale=1)\n",
    "rvs2 = stats.norm.rvs(size=n2, loc=0.5, scale=1.5)\n",
    "stats.ks_2samp(rvs1, rvs2)"
   ]
  },
  {
   "cell_type": "code",
   "execution_count": 14,
   "id": "fe0b2602",
   "metadata": {},
   "outputs": [
    {
     "data": {
      "text/plain": [
       "KstestResult(statistic=0.27, pvalue=5.01791941596116e-10)"
      ]
     },
     "execution_count": 14,
     "metadata": {},
     "output_type": "execute_result"
    }
   ],
   "source": [
    "n1 = 300  # size of first sample\n",
    "n2 = 300  # size of second sample\n",
    "rvs1 = stats.norm.rvs(size=n1, loc=0., scale=1)\n",
    "rvs2 = stats.cosine.rvs(size=n2, loc=0.5, scale=1.5)\n",
    "stats.ks_2samp(rvs1, rvs2)"
   ]
  },
  {
   "cell_type": "code",
   "execution_count": 7,
   "id": "9dd7fc28",
   "metadata": {},
   "outputs": [
    {
     "data": {
      "text/plain": [
       "KstestResult(statistic=0.26666666666666666, pvalue=0.23907300248018645)"
      ]
     },
     "execution_count": 7,
     "metadata": {},
     "output_type": "execute_result"
    }
   ],
   "source": [
    "n1 = 30  # size of first sample\n",
    "n2 = 30  # size of second sample\n",
    "rvs1 = stats.norm.rvs(size=n1, loc=0., scale=1)\n",
    "rvs2 = stats.norm.rvs(size=n2, loc=0.5, scale=1.5)\n",
    "stats.ks_2samp(rvs1, rvs2)"
   ]
  },
  {
   "cell_type": "code",
   "execution_count": 8,
   "id": "da54517d",
   "metadata": {},
   "outputs": [
    {
     "data": {
      "text/plain": [
       "KstestResult(statistic=0.4443560271592436, pvalue=0.03885014008678811)"
      ]
     },
     "execution_count": 8,
     "metadata": {},
     "output_type": "execute_result"
    }
   ],
   "source": [
    "x = np.linspace(-15, 15, 9)\n",
    "stats.kstest(x, 'norm')\n"
   ]
  },
  {
   "cell_type": "code",
   "execution_count": 10,
   "id": "85bf4233",
   "metadata": {},
   "outputs": [
    {
     "data": {
      "text/plain": [
       "9"
      ]
     },
     "execution_count": 10,
     "metadata": {},
     "output_type": "execute_result"
    }
   ],
   "source": [
    "np.size(x)"
   ]
  },
  {
   "cell_type": "code",
   "execution_count": 11,
   "id": "a2f60f73",
   "metadata": {},
   "outputs": [
    {
     "data": {
      "text/plain": [
       "KstestResult(statistic=0.41847868995611914, pvalue=2.2110220459897132e-16)"
      ]
     },
     "execution_count": 11,
     "metadata": {},
     "output_type": "execute_result"
    }
   ],
   "source": [
    "x = np.linspace(-15, 15, 100)\n",
    "stats.kstest(x, 'norm')\n"
   ]
  },
  {
   "cell_type": "code",
   "execution_count": 16,
   "id": "96aca2a6",
   "metadata": {},
   "outputs": [
    {
     "data": {
      "text/plain": [
       "KstestResult(statistic=0.4133645805958034, pvalue=3.757227127957862e-155)"
      ]
     },
     "execution_count": 16,
     "metadata": {},
     "output_type": "execute_result"
    }
   ],
   "source": [
    "x = np.linspace(-15, 15, 1000)\n",
    "stats.kstest(x, 'norm',N = 1000)\n"
   ]
  },
  {
   "cell_type": "code",
   "execution_count": 13,
   "id": "6e70580b",
   "metadata": {},
   "outputs": [
    {
     "data": {
      "text/plain": [
       "KstestResult(statistic=0.4128504962538391, pvalue=0.0)"
      ]
     },
     "execution_count": 13,
     "metadata": {},
     "output_type": "execute_result"
    }
   ],
   "source": [
    "x = np.linspace(-15, 15, 10000)\n",
    "stats.kstest(x, 'norm')"
   ]
  },
  {
   "cell_type": "code",
   "execution_count": 29,
   "id": "adf36275",
   "metadata": {},
   "outputs": [],
   "source": [
    "x = np.random.normal(0,1,30000)\n",
    "test_stat = stats.kstest(x, 'norm')"
   ]
  },
  {
   "cell_type": "code",
   "execution_count": 30,
   "id": "be6b3627",
   "metadata": {},
   "outputs": [
    {
     "data": {
      "text/plain": [
       "KstestResult(statistic=0.0037771574849452816, pvalue=0.7839430043847648)"
      ]
     },
     "execution_count": 30,
     "metadata": {},
     "output_type": "execute_result"
    }
   ],
   "source": [
    "test_stat"
   ]
  },
  {
   "cell_type": "code",
   "execution_count": 26,
   "id": "988a057b",
   "metadata": {},
   "outputs": [
    {
     "data": {
      "text/plain": [
       "10000"
      ]
     },
     "execution_count": 26,
     "metadata": {},
     "output_type": "execute_result"
    }
   ],
   "source": [
    "np.size(x)"
   ]
  },
  {
   "cell_type": "code",
   "execution_count": 32,
   "id": "4f674a8a",
   "metadata": {},
   "outputs": [],
   "source": [
    "import pandas as pd"
   ]
  },
  {
   "cell_type": "raw",
   "id": "08834925",
   "metadata": {},
   "source": []
  },
  {
   "cell_type": "raw",
   "id": "33b78a5d",
   "metadata": {},
   "source": []
  },
  {
   "cell_type": "code",
   "execution_count": 37,
   "id": "8598be5b",
   "metadata": {},
   "outputs": [],
   "source": [
    "arr1 = [1,2,3,4,5,7,8,6,4,2,8]\n",
    "arr2 = [2,5,9,3,5,7,4,3,8,9,8]\n",
    "\n",
    "datack = pd.DataFrame() "
   ]
  },
  {
   "cell_type": "code",
   "execution_count": 38,
   "id": "2d5c8675",
   "metadata": {},
   "outputs": [
    {
     "data": {
      "text/html": [
       "<div>\n",
       "<style scoped>\n",
       "    .dataframe tbody tr th:only-of-type {\n",
       "        vertical-align: middle;\n",
       "    }\n",
       "\n",
       "    .dataframe tbody tr th {\n",
       "        vertical-align: top;\n",
       "    }\n",
       "\n",
       "    .dataframe thead th {\n",
       "        text-align: right;\n",
       "    }\n",
       "</style>\n",
       "<table border=\"1\" class=\"dataframe\">\n",
       "  <thead>\n",
       "    <tr style=\"text-align: right;\">\n",
       "      <th></th>\n",
       "    </tr>\n",
       "  </thead>\n",
       "  <tbody>\n",
       "  </tbody>\n",
       "</table>\n",
       "</div>"
      ],
      "text/plain": [
       "Empty DataFrame\n",
       "Columns: []\n",
       "Index: []"
      ]
     },
     "execution_count": 38,
     "metadata": {},
     "output_type": "execute_result"
    }
   ],
   "source": [
    "datack"
   ]
  },
  {
   "cell_type": "code",
   "execution_count": 39,
   "id": "579ca81d",
   "metadata": {},
   "outputs": [],
   "source": [
    "datack[1] = arr1"
   ]
  },
  {
   "cell_type": "code",
   "execution_count": 40,
   "id": "760379a4",
   "metadata": {},
   "outputs": [
    {
     "data": {
      "text/html": [
       "<div>\n",
       "<style scoped>\n",
       "    .dataframe tbody tr th:only-of-type {\n",
       "        vertical-align: middle;\n",
       "    }\n",
       "\n",
       "    .dataframe tbody tr th {\n",
       "        vertical-align: top;\n",
       "    }\n",
       "\n",
       "    .dataframe thead th {\n",
       "        text-align: right;\n",
       "    }\n",
       "</style>\n",
       "<table border=\"1\" class=\"dataframe\">\n",
       "  <thead>\n",
       "    <tr style=\"text-align: right;\">\n",
       "      <th></th>\n",
       "      <th>1</th>\n",
       "    </tr>\n",
       "  </thead>\n",
       "  <tbody>\n",
       "    <tr>\n",
       "      <th>0</th>\n",
       "      <td>1</td>\n",
       "    </tr>\n",
       "    <tr>\n",
       "      <th>1</th>\n",
       "      <td>2</td>\n",
       "    </tr>\n",
       "    <tr>\n",
       "      <th>2</th>\n",
       "      <td>3</td>\n",
       "    </tr>\n",
       "    <tr>\n",
       "      <th>3</th>\n",
       "      <td>4</td>\n",
       "    </tr>\n",
       "    <tr>\n",
       "      <th>4</th>\n",
       "      <td>5</td>\n",
       "    </tr>\n",
       "    <tr>\n",
       "      <th>5</th>\n",
       "      <td>7</td>\n",
       "    </tr>\n",
       "    <tr>\n",
       "      <th>6</th>\n",
       "      <td>8</td>\n",
       "    </tr>\n",
       "    <tr>\n",
       "      <th>7</th>\n",
       "      <td>6</td>\n",
       "    </tr>\n",
       "    <tr>\n",
       "      <th>8</th>\n",
       "      <td>4</td>\n",
       "    </tr>\n",
       "    <tr>\n",
       "      <th>9</th>\n",
       "      <td>2</td>\n",
       "    </tr>\n",
       "    <tr>\n",
       "      <th>10</th>\n",
       "      <td>8</td>\n",
       "    </tr>\n",
       "  </tbody>\n",
       "</table>\n",
       "</div>"
      ],
      "text/plain": [
       "    1\n",
       "0   1\n",
       "1   2\n",
       "2   3\n",
       "3   4\n",
       "4   5\n",
       "5   7\n",
       "6   8\n",
       "7   6\n",
       "8   4\n",
       "9   2\n",
       "10  8"
      ]
     },
     "execution_count": 40,
     "metadata": {},
     "output_type": "execute_result"
    }
   ],
   "source": [
    "datack"
   ]
  },
  {
   "cell_type": "code",
   "execution_count": 41,
   "id": "14ba713d",
   "metadata": {},
   "outputs": [],
   "source": [
    "datack[2] = arr2"
   ]
  },
  {
   "cell_type": "code",
   "execution_count": 42,
   "id": "66911ea4",
   "metadata": {},
   "outputs": [
    {
     "data": {
      "text/html": [
       "<div>\n",
       "<style scoped>\n",
       "    .dataframe tbody tr th:only-of-type {\n",
       "        vertical-align: middle;\n",
       "    }\n",
       "\n",
       "    .dataframe tbody tr th {\n",
       "        vertical-align: top;\n",
       "    }\n",
       "\n",
       "    .dataframe thead th {\n",
       "        text-align: right;\n",
       "    }\n",
       "</style>\n",
       "<table border=\"1\" class=\"dataframe\">\n",
       "  <thead>\n",
       "    <tr style=\"text-align: right;\">\n",
       "      <th></th>\n",
       "      <th>1</th>\n",
       "      <th>2</th>\n",
       "    </tr>\n",
       "  </thead>\n",
       "  <tbody>\n",
       "    <tr>\n",
       "      <th>0</th>\n",
       "      <td>1</td>\n",
       "      <td>2</td>\n",
       "    </tr>\n",
       "    <tr>\n",
       "      <th>1</th>\n",
       "      <td>2</td>\n",
       "      <td>5</td>\n",
       "    </tr>\n",
       "    <tr>\n",
       "      <th>2</th>\n",
       "      <td>3</td>\n",
       "      <td>9</td>\n",
       "    </tr>\n",
       "    <tr>\n",
       "      <th>3</th>\n",
       "      <td>4</td>\n",
       "      <td>3</td>\n",
       "    </tr>\n",
       "    <tr>\n",
       "      <th>4</th>\n",
       "      <td>5</td>\n",
       "      <td>5</td>\n",
       "    </tr>\n",
       "    <tr>\n",
       "      <th>5</th>\n",
       "      <td>7</td>\n",
       "      <td>7</td>\n",
       "    </tr>\n",
       "    <tr>\n",
       "      <th>6</th>\n",
       "      <td>8</td>\n",
       "      <td>4</td>\n",
       "    </tr>\n",
       "    <tr>\n",
       "      <th>7</th>\n",
       "      <td>6</td>\n",
       "      <td>3</td>\n",
       "    </tr>\n",
       "    <tr>\n",
       "      <th>8</th>\n",
       "      <td>4</td>\n",
       "      <td>8</td>\n",
       "    </tr>\n",
       "    <tr>\n",
       "      <th>9</th>\n",
       "      <td>2</td>\n",
       "      <td>9</td>\n",
       "    </tr>\n",
       "    <tr>\n",
       "      <th>10</th>\n",
       "      <td>8</td>\n",
       "      <td>8</td>\n",
       "    </tr>\n",
       "  </tbody>\n",
       "</table>\n",
       "</div>"
      ],
      "text/plain": [
       "    1  2\n",
       "0   1  2\n",
       "1   2  5\n",
       "2   3  9\n",
       "3   4  3\n",
       "4   5  5\n",
       "5   7  7\n",
       "6   8  4\n",
       "7   6  3\n",
       "8   4  8\n",
       "9   2  9\n",
       "10  8  8"
      ]
     },
     "execution_count": 42,
     "metadata": {},
     "output_type": "execute_result"
    }
   ],
   "source": [
    "datack\n"
   ]
  },
  {
   "cell_type": "code",
   "execution_count": 4,
   "id": "a5d0ccde",
   "metadata": {},
   "outputs": [],
   "source": [
    "import pandas as pd\n",
    "import numpy as np\n",
    "import scipy\n",
    "from sklearn.preprocessing import StandardScaler\n",
    "import scipy.stats\n",
    "import matplotlib.pyplot as plt\n",
    "%matplotlib inline\n",
    "import warnings\n",
    "warnings.filterwarnings(\"ignore\")\n",
    "\n",
    "\n",
    "data = pd.read_csv('UCI_Credit_Card.csv', delimiter = ',')"
   ]
  },
  {
   "cell_type": "code",
   "execution_count": 63,
   "id": "e394acf9",
   "metadata": {},
   "outputs": [
    {
     "name": "stdout",
     "output_type": "stream",
     "text": [
      "-2.9443119518757164 12.402963499080837\n",
      "(-1.2316074086508403e-17, 1.0)\n",
      "0.0 1.0\n",
      "(0.1918459052412593, 0.06515814505288448)\n",
      "KstestResult(statistic=0.2366617340063037, pvalue=0.0)\n",
      "KstestResult(statistic=0.23666173400630391, pvalue=0.0)\n"
     ]
    }
   ],
   "source": [
    "sc = StandardScaler()\n",
    "sc=StandardScaler() \n",
    "yy = np.reshape(data[data.columns[12]].values,(-1,1))\n",
    "sc.fit(yy)\n",
    "y_std =sc.transform(yy)\n",
    "y_std = y_std.flatten()\n",
    "print(np.min(y_std), np.max(y_std)) #since range is -3 to 12 \n",
    "param = scipy.stats.norm.fit(y_std)\n",
    "\n",
    "print(param)\n",
    "y_std1 = (y_std - np.min(y_std))/(np.max(y_std)- np.min(y_std)) #standardizing to 0 to 1\n",
    "param1 = scipy.stats.norm.fit(y_std1)\n",
    "print(np.min(y_std1), np.max(y_std1))\n",
    "\n",
    "print(param1)\n",
    "print(scipy.stats.kstest(y_std, 'norm', args = param))\n",
    "print(scipy.stats.kstest(y_std1, 'norm', args = param1))"
   ]
  },
  {
   "cell_type": "code",
   "execution_count": 16,
   "id": "7dc8bd95",
   "metadata": {},
   "outputs": [
    {
     "data": {
      "text/plain": [
       "KstestResult(statistic=0.2366617340063037, pvalue=0.0)"
      ]
     },
     "execution_count": 16,
     "metadata": {},
     "output_type": "execute_result"
    }
   ],
   "source": [
    "sorted_data = np.sort(data[data.columns[12]], axis =0)\n",
    "scaled = ((sorted_data-sorted_data.mean())/sorted_data.std())\n",
    "y_std= scaled\n",
    "param = scipy.stats.norm.fit(y_std)\n",
    "scipy.stats.kstest(y_std, 'norm', args=param)"
   ]
  },
  {
   "cell_type": "code",
   "execution_count": 17,
   "id": "9c64669e",
   "metadata": {},
   "outputs": [
    {
     "data": {
      "text/plain": [
       "[]"
      ]
     },
     "execution_count": 17,
     "metadata": {},
     "output_type": "execute_result"
    },
    {
     "data": {
      "image/png": "[encoded data removed]",
      "text/plain": [
       "<Figure size 432x288 with 1 Axes>"
      ]
     },
     "metadata": {
      "needs_background": "light"
     },
     "output_type": "display_data"
    }
   ],
   "source": [
    "emperical = [(1 + i) / len(y_std) for i in range(len(y_std))]\n",
    "t = np.linspace(min(y_std), max(y_std),30000)\n",
    "plt.plot(y_std,emperical, color = 'g', label = 'input data ecdf')\n",
    "plt.plot(t,scipy.stats.norm.cdf(t,*param[:-2], loc=param[-2], scale=param[-1]), color = 'r', label = \"normal\")\n",
    "plt.legend()\n",
    "plt.plot()"
   ]
  },
  {
   "cell_type": "code",
   "execution_count": 19,
   "id": "0df1e5da",
   "metadata": {},
   "outputs": [
    {
     "data": {
      "text/plain": [
       "array([-0.64250107, -0.65921875, -0.29855966, ..., -0.64722711,\n",
       "       -0.71798186, -0.04473888])"
      ]
     },
     "execution_count": 19,
     "metadata": {},
     "output_type": "execute_result"
    }
   ],
   "source": [
    "y_std"
   ]
  },
  {
   "cell_type": "code",
   "execution_count": 32,
   "id": "5077eb6e",
   "metadata": {},
   "outputs": [
    {
     "data": {
      "text/plain": [
       "-3.541198287646993"
      ]
     },
     "execution_count": 32,
     "metadata": {},
     "output_type": "execute_result"
    }
   ],
   "source": [
    "np.min(y_std)"
   ]
  },
  {
   "cell_type": "code",
   "execution_count": 33,
   "id": "2f7e7bf1",
   "metadata": {},
   "outputs": [
    {
     "data": {
      "text/plain": [
       "3.3229696550234054"
      ]
     },
     "execution_count": 33,
     "metadata": {},
     "output_type": "execute_result"
    }
   ],
   "source": [
    "np.max(y_std)"
   ]
  },
  {
   "cell_type": "code",
   "execution_count": 41,
   "id": "6a717c5f",
   "metadata": {},
   "outputs": [],
   "source": [
    "sc = StandardScaler()\n",
    "sc=StandardScaler() \n",
    "yy = np.reshape(np.random.normal(loc = 2, scale = 1.5,size = 30000),(-1,1))\n",
    "sc.fit(yy)\n",
    "y_std =sc.transform(yy)\n",
    "y_std = y_std.flatten()"
   ]
  },
  {
   "cell_type": "code",
   "execution_count": 42,
   "id": "273ccd77",
   "metadata": {},
   "outputs": [
    {
     "data": {
      "text/plain": [
       "4.4527344774299613e-17"
      ]
     },
     "execution_count": 42,
     "metadata": {},
     "output_type": "execute_result"
    }
   ],
   "source": [
    "y_std.mean()"
   ]
  },
  {
   "cell_type": "code",
   "execution_count": 43,
   "id": "608dcc55",
   "metadata": {},
   "outputs": [
    {
     "data": {
      "text/plain": [
       "0.9999999999999999"
      ]
     },
     "execution_count": 43,
     "metadata": {},
     "output_type": "execute_result"
    }
   ],
   "source": [
    "y_std.std()"
   ]
  },
  {
   "cell_type": "code",
   "execution_count": 45,
   "id": "6f844f58",
   "metadata": {},
   "outputs": [
    {
     "data": {
      "text/plain": [
       "[<matplotlib.lines.Line2D at 0x1e6e55d6910>]"
      ]
     },
     "execution_count": 45,
     "metadata": {},
     "output_type": "execute_result"
    },
    {
     "data": {
      "image/png": "[encoded data removed]",
      "text/plain": [
       "<Figure size 432x288 with 1 Axes>"
      ]
     },
     "metadata": {
      "needs_background": "light"
     },
     "output_type": "display_data"
    }
   ],
   "source": [
    "plt.plot(y_std)"
   ]
  },
  {
   "cell_type": "code",
   "execution_count": 44,
   "id": "476cf2f5",
   "metadata": {},
   "outputs": [],
   "source": [
    "y_std = (y_std - np.min(y_std))/(np.max(y_std)- np.min(y_std))"
   ]
  },
  {
   "cell_type": "code",
   "execution_count": 46,
   "id": "8fa4b914",
   "metadata": {},
   "outputs": [],
   "source": [
    "sorted_data = np.sort(data[data.columns[12]], axis =0)\n",
    "scaled = ((sorted_data-sorted_data.mean())/sorted_data.std())\n",
    "y_std1= scaled\n",
    "y_std1 = (y_std1 - np.min(y_std1))/(np.max(y_std1)- np.min(y_std1))"
   ]
  },
  {
   "cell_type": "code",
   "execution_count": 47,
   "id": "bd749eb5",
   "metadata": {},
   "outputs": [
    {
     "data": {
      "text/plain": [
       "[<matplotlib.lines.Line2D at 0x1e6e6c82640>]"
      ]
     },
     "execution_count": 47,
     "metadata": {},
     "output_type": "execute_result"
    },
    {
     "data": {
      "image/png": "[encoded data removed]",
      "text/plain": [
       "<Figure size 432x288 with 1 Axes>"
      ]
     },
     "metadata": {
      "needs_background": "light"
     },
     "output_type": "display_data"
    }
   ],
   "source": [
    "plt.plot(y_std1)"
   ]
  },
  {
   "cell_type": "code",
   "execution_count": 50,
   "id": "1836ba92",
   "metadata": {},
   "outputs": [
    {
     "data": {
      "text/plain": [
       "KstestResult(statistic=0.9027333333333334, pvalue=0.0)"
      ]
     },
     "execution_count": 50,
     "metadata": {},
     "output_type": "execute_result"
    }
   ],
   "source": [
    "scipy.stats.ks_2samp(y_std,y_std1)"
   ]
  },
  {
   "cell_type": "code",
   "execution_count": 49,
   "id": "9e17da17",
   "metadata": {},
   "outputs": [],
   "source": [
    "y_std = np.sort(y_std)"
   ]
  },
  {
   "cell_type": "code",
   "execution_count": 51,
   "id": "77458cd0",
   "metadata": {},
   "outputs": [
    {
     "data": {
      "image/png": "[encoded data removed]",
      "text/plain": [
       "<Figure size 432x288 with 1 Axes>"
      ]
     },
     "metadata": {
      "needs_background": "light"
     },
     "output_type": "display_data"
    }
   ],
   "source": [
    "plt.plot(y_std)\n",
    "plt.plot(y_std1)\n",
    "plt.show()"
   ]
  },
  {
   "cell_type": "code",
   "execution_count": 52,
   "id": "08a36763",
   "metadata": {},
   "outputs": [],
   "source": [
    "sorted_data = y_std\n",
    "scaled = ((sorted_data-sorted_data.mean())/sorted_data.std())\n",
    "y_std_2= scaled"
   ]
  },
  {
   "cell_type": "code",
   "execution_count": 53,
   "id": "5d92aab5",
   "metadata": {},
   "outputs": [
    {
     "data": {
      "text/plain": [
       "[<matplotlib.lines.Line2D at 0x1e6e7d0a5e0>]"
      ]
     },
     "execution_count": 53,
     "metadata": {},
     "output_type": "execute_result"
    },
    {
     "data": {
      "image/png": "[encoded data removed]",
      "text/plain": [
       "<Figure size 432x288 with 1 Axes>"
      ]
     },
     "metadata": {
      "needs_background": "light"
     },
     "output_type": "display_data"
    }
   ],
   "source": [
    "plt.plot(y_std_2)"
   ]
  },
  {
   "cell_type": "code",
   "execution_count": 54,
   "id": "8896351a",
   "metadata": {},
   "outputs": [],
   "source": [
    "g = np.random.normal(loc = 0, scale = 1,size = 30000)"
   ]
  },
  {
   "cell_type": "code",
   "execution_count": 55,
   "id": "c0b6dcc2",
   "metadata": {},
   "outputs": [
    {
     "data": {
      "text/plain": [
       "[<matplotlib.lines.Line2D at 0x1e6e7d5cd60>]"
      ]
     },
     "execution_count": 55,
     "metadata": {},
     "output_type": "execute_result"
    },
    {
     "data": {
      "image/png": "[encoded data removed]",
      "text/plain": [
       "<Figure size 432x288 with 1 Axes>"
      ]
     },
     "metadata": {
      "needs_background": "light"
     },
     "output_type": "display_data"
    }
   ],
   "source": [
    "plt.plot(g)"
   ]
  },
  {
   "cell_type": "code",
   "execution_count": 57,
   "id": "279d26bb",
   "metadata": {},
   "outputs": [
    {
     "name": "stdout",
     "output_type": "stream",
     "text": [
      "Help on built-in function normal:\n",
      "\n",
      "normal(...) method of numpy.random.mtrand.RandomState instance\n",
      "    normal(loc=0.0, scale=1.0, size=None)\n",
      "    \n",
      "    Draw random samples from a normal (Gaussian) distribution.\n",
      "    \n",
      "    The probability density function of the normal distribution, first\n",
      "    derived by De Moivre and 200 years later by both Gauss and Laplace\n",
      "    independently [2]_, is often called the bell curve because of\n",
      "    its characteristic shape (see the example below).\n",
      "    \n",
      "    The normal distributions occurs often in nature.  For example, it\n",
      "    describes the commonly occurring distribution of samples influenced\n",
      "    by a large number of tiny, random disturbances, each with its own\n",
      "    unique distribution [2]_.\n",
      "    \n",
      "    .. note::\n",
      "        New code should use the ``normal`` method of a ``default_rng()``\n",
      "        instance instead; please see the :ref:`random-quick-start`.\n",
      "    \n",
      "    Parameters\n",
      "    ----------\n",
      "    loc : float or array_like of floats\n",
      "        Mean (\"centre\") of the distribution.\n",
      "    scale : float or array_like of floats\n",
      "        Standard deviation (spread or \"width\") of the distribution. Must be\n",
      "        non-negative.\n",
      "    size : int or tuple of ints, optional\n",
      "        Output shape.  If the given shape is, e.g., ``(m, n, k)``, then\n",
      "        ``m * n * k`` samples are drawn.  If size is ``None`` (default),\n",
      "        a single value is returned if ``loc`` and ``scale`` are both scalars.\n",
      "        Otherwise, ``np.broadcast(loc, scale).size`` samples are drawn.\n",
      "    \n",
      "    Returns\n",
      "    -------\n",
      "    out : ndarray or scalar\n",
      "        Drawn samples from the parameterized normal distribution.\n",
      "    \n",
      "    See Also\n",
      "    --------\n",
      "    scipy.stats.norm : probability density function, distribution or\n",
      "        cumulative density function, etc.\n",
      "    Generator.normal: which should be used for new code.\n",
      "    \n",
      "    Notes\n",
      "    -----\n",
      "    The probability density for the Gaussian distribution is\n",
      "    \n",
      "    .. math:: p(x) = \\frac{1}{\\sqrt{ 2 \\pi \\sigma^2 }}\n",
      "                     e^{ - \\frac{ (x - \\mu)^2 } {2 \\sigma^2} },\n",
      "    \n",
      "    where :math:`\\mu` is the mean and :math:`\\sigma` the standard\n",
      "    deviation. The square of the standard deviation, :math:`\\sigma^2`,\n",
      "    is called the variance.\n",
      "    \n",
      "    The function has its peak at the mean, and its \"spread\" increases with\n",
      "    the standard deviation (the function reaches 0.607 times its maximum at\n",
      "    :math:`x + \\sigma` and :math:`x - \\sigma` [2]_).  This implies that\n",
      "    normal is more likely to return samples lying close to the mean, rather\n",
      "    than those far away.\n",
      "    \n",
      "    References\n",
      "    ----------\n",
      "    .. [1] Wikipedia, \"Normal distribution\",\n",
      "           https://en.wikipedia.org/wiki/Normal_distribution\n",
      "    .. [2] P. R. Peebles Jr., \"Central Limit Theorem\" in \"Probability,\n",
      "           Random Variables and Random Signal Principles\", 4th ed., 2001,\n",
      "           pp. 51, 51, 125.\n",
      "    \n",
      "    Examples\n",
      "    --------\n",
      "    Draw samples from the distribution:\n",
      "    \n",
      "    >>> mu, sigma = 0, 0.1 # mean and standard deviation\n",
      "    >>> s = np.random.normal(mu, sigma, 1000)\n",
      "    \n",
      "    Verify the mean and the variance:\n",
      "    \n",
      "    >>> abs(mu - np.mean(s))\n",
      "    0.0  # may vary\n",
      "    \n",
      "    >>> abs(sigma - np.std(s, ddof=1))\n",
      "    0.1  # may vary\n",
      "    \n",
      "    Display the histogram of the samples, along with\n",
      "    the probability density function:\n",
      "    \n",
      "    >>> import matplotlib.pyplot as plt\n",
      "    >>> count, bins, ignored = plt.hist(s, 30, density=True)\n",
      "    >>> plt.plot(bins, 1/(sigma * np.sqrt(2 * np.pi)) *\n",
      "    ...                np.exp( - (bins - mu)**2 / (2 * sigma**2) ),\n",
      "    ...          linewidth=2, color='r')\n",
      "    >>> plt.show()\n",
      "    \n",
      "    Two-by-four array of samples from N(3, 6.25):\n",
      "    \n",
      "    >>> np.random.normal(3, 2.5, size=(2, 4))\n",
      "    array([[-4.49401501,  4.00950034, -1.81814867,  7.29718677],   # random\n",
      "           [ 0.39924804,  4.68456316,  4.99394529,  4.84057254]])  # random\n",
      "\n"
     ]
    }
   ],
   "source": [
    "help(np.random.normal)"
   ]
  },
  {
   "cell_type": "code",
   "execution_count": null,
   "id": "c66c54d5",
   "metadata": {},
   "outputs": [],
   "source": []
  }
 ],
 "metadata": {
  "kernelspec": {
   "display_name": "Python 3",
   "language": "python",
   "name": "python3"
  },
  "language_info": {
   "codemirror_mode": {
    "name": "ipython",
    "version": 3
   },
   "file_extension": ".py",
   "mimetype": "text/x-python",
   "name": "python",
   "nbconvert_exporter": "python",
   "pygments_lexer": "ipython3",
   "version": "3.8.8"
  }
 },
 "nbformat": 4,
 "nbformat_minor": 5
}
