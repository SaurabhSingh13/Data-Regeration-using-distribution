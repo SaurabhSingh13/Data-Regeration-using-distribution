{
 "cells": [
  {
   "cell_type": "code",
   "execution_count": 1,
   "id": "3211063e",
   "metadata": {},
   "outputs": [],
   "source": [
    "import numpy as np\n",
    "import pandas as pd \n",
    "import scipy\n",
    "from scipy import stats\n",
    "import matplotlib.pyplot as plt\n",
    "import seaborn as sns\n",
    "\n",
    "plt.style.use('ggplot') \n",
    "\n",
    "from sklearn.model_selection import train_test_split\n",
    "import torch\n",
    "from torch.utils.data import DataLoader\n",
    "\n",
    "\n",
    "from sklearn.model_selection import RandomizedSearchCV \n",
    "from sklearn.preprocessing import StandardScaler \n",
    "from sklearn.pipeline import Pipeline \n",
    "from sklearn.ensemble import RandomForestClassifier\n",
    "\n",
    "from sklearn.model_selection import cross_val_score\n",
    "from sklearn.metrics import classification_report\n",
    "from sklearn.metrics import confusion_matrix\n",
    "\n",
    "from sklearn import metrics \n",
    "import os\n",
    "%matplotlib inline\n",
    "import warnings\n",
    "warnings.filterwarnings(\"ignore\")\n",
    "\n",
    "\n",
    "data = pd.read_csv('UCI_Credit_Card.csv', delimiter = ',') \n",
    "data_rec = pd.DataFrame()"
   ]
  },
  {
   "cell_type": "code",
   "execution_count": 2,
   "id": "14edca62",
   "metadata": {},
   "outputs": [],
   "source": [
    "#distribution set\n",
    "dist_names = ['norm',\n",
    "              'exponweib',\n",
    "              'chi2',\n",
    "              'lognorm',\n",
    "              'beta',\n",
    "              'cauchy',\n",
    "              'cosine',\n",
    "              'gamma',\n",
    "              'logistic',\n",
    "              'lomax',\n",
    "              'maxwell',\n",
    "              'rdist',\n",
    "              'uniform', \n",
    "              'erlang']\n"
   ]
  },
  {
   "cell_type": "code",
   "execution_count": 3,
   "id": "bd90da7a",
   "metadata": {},
   "outputs": [
    {
     "name": "stdout",
     "output_type": "stream",
     "text": [
      "column: 1\n",
      "column: 2\n",
      "column: 3\n",
      "column: 4\n",
      "column: 5\n",
      "column: 6\n",
      "column: 7\n",
      "column: 8\n",
      "column: 9\n",
      "column: 10\n",
      "column: 11\n",
      "column: 12\n",
      "column: 13\n",
      "column: 14\n",
      "column: 15\n",
      "column: 16\n",
      "column: 17\n",
      "column: 18\n",
      "column: 19\n",
      "column: 20\n",
      "column: 21\n",
      "column: 22\n",
      "column: 23\n",
      "column: 24\n",
      "column: 25\n"
     ]
    }
   ],
   "source": [
    "for i in range(0,len(data.columns)):\n",
    "        print(\"column:\", i+1)\n",
    "        #standardization\n",
    "        s_data = data[data.columns[i]]\n",
    "        scaled = ((s_data-s_data.mean())/s_data.std())\n",
    "        y_std= scaled                               #Normalization of data\n",
    "        emperical = [(1 + k) / len(y_std) for k in range(len(y_std))] # for the epdf plot of the original data\n",
    "        t = np.linspace(min(y_std), max(y_std),30000)\n",
    "        data_batch = DataLoader(data[data.columns[i]], batch_size=100, shuffle = False) #loading the data in batches\n",
    "        p_val = [0] * len(data_batch)\n",
    "        q_val = [''] * len(data_batch)\n",
    "        D_val = [0] * len(data_batch)\n",
    "        j=0;\n",
    "        temp_col = []\n",
    "        for dat in data_batch: \n",
    "            dat = dat.numpy()\n",
    "            dt = (dat - dat.mean())/dat.std() #normalization\n",
    "            for distribution in dist_names:\n",
    "                dist = getattr(stats, distribution)\n",
    "                #dat1 = dat.astype('int32')\n",
    "                try:         # Error with type conversion \n",
    "                    param = dist.fit(dat) \n",
    "                except ValueError:\n",
    "                    continue\n",
    "                    \n",
    " \n",
    "                \n",
    "                d,p = stats.kstest(dat, distribution, args=param)\n",
    "                if p_val[j]<p:\n",
    "                    p_val[j] = p\n",
    "                    D_val[j] = d\n",
    "                    q_val[j] = distribution\n",
    "            param1 = getattr(scipy.stats,q_val[j] ).fit(dat)  # parameter fitting for recreation\n",
    "            temp = getattr(scipy.stats, q_val[j]).rvs(*param1[:-2], loc=param1[-2], scale=param1[-1], size = 100) #recreating data for ech batch\n",
    "\n",
    "                \n",
    "            temp_col = np.append(temp_col, temp)\n",
    "            j+=1\n",
    "            #break\n",
    "        data_rec[data.columns[i]] = temp_col\n",
    "            \n",
    "        #break"
   ]
  },
  {
   "cell_type": "code",
   "execution_count": 6,
   "id": "dada6b21",
   "metadata": {},
   "outputs": [
    {
     "name": "stdout",
     "output_type": "stream",
     "text": [
      "<class 'pandas.core.frame.DataFrame'>\n",
      "RangeIndex: 30000 entries, 0 to 29999\n",
      "Data columns (total 24 columns):\n",
      " #   Column     Non-Null Count  Dtype  \n",
      "---  ------     --------------  -----  \n",
      " 0   LIMIT_BAL  30000 non-null  float64\n",
      " 1   SEX        30000 non-null  int64  \n",
      " 2   EDUCATION  30000 non-null  int64  \n",
      " 3   MARRIAGE   30000 non-null  int64  \n",
      " 4   AGE        30000 non-null  int64  \n",
      " 5   PAY_0      30000 non-null  int64  \n",
      " 6   PAY_2      30000 non-null  int64  \n",
      " 7   PAY_3      30000 non-null  int64  \n",
      " 8   PAY_4      30000 non-null  int64  \n",
      " 9   PAY_5      30000 non-null  int64  \n",
      " 10  PAY_6      30000 non-null  int64  \n",
      " 11  BILL_AMT1  30000 non-null  float64\n",
      " 12  BILL_AMT2  30000 non-null  float64\n",
      " 13  BILL_AMT3  30000 non-null  float64\n",
      " 14  BILL_AMT4  30000 non-null  float64\n",
      " 15  BILL_AMT5  30000 non-null  float64\n",
      " 16  BILL_AMT6  30000 non-null  float64\n",
      " 17  PAY_AMT1   30000 non-null  float64\n",
      " 18  PAY_AMT2   30000 non-null  float64\n",
      " 19  PAY_AMT3   30000 non-null  float64\n",
      " 20  PAY_AMT4   30000 non-null  float64\n",
      " 21  PAY_AMT5   30000 non-null  float64\n",
      " 22  PAY_AMT6   30000 non-null  float64\n",
      " 23  Default    30000 non-null  int64  \n",
      "dtypes: float64(13), int64(11)\n",
      "memory usage: 5.5 MB\n"
     ]
    }
   ],
   "source": [
    "data_rec.rename(columns={\"default.payment.next.month\": \"Default\"}, inplace=True)\n",
    "data_rec[\"Default\"] = data[\"default.payment.next.month\"]\n",
    "data.rename(columns={\"default.payment.next.month\": \"Default\"}, inplace=True)\n",
    "data.drop('ID', axis = 1, inplace =True)\n",
    "data_rec.drop('ID', axis = 1, inplace =True)\n",
    "data.info()"
   ]
  },
  {
   "cell_type": "code",
   "execution_count": 9,
   "id": "75d9176a",
   "metadata": {},
   "outputs": [],
   "source": [
    "y = data.Default     # target default=1 or non-default=0\n",
    "features = data.drop('Default', axis = 1, inplace = False)\n",
    "\n",
    "#clearing redundancy in data type\n",
    "data['EDUCATION']=np.where(data['EDUCATION'] == 5, 4, data['EDUCATION'])  \n",
    "data['EDUCATION']=np.where(data['EDUCATION'] == 6, 4, data['EDUCATION'])\n",
    "data['EDUCATION']=np.where(data['EDUCATION'] == 0, 4, data['EDUCATION'])\n",
    "data['MARRIAGE']=np.where(data['MARRIAGE'] == 0, 3, data['MARRIAGE'])\n",
    "data['MARRIAGE'].unique()\n"
   ]
  },
  {
   "cell_type": "code",
   "execution_count": null,
   "id": "3bd2b3f9",
   "metadata": {},
   "outputs": [],
   "source": [
    "# Original data\n",
    "X = data.drop('Default', axis=1)  \n",
    "y = data['Default']\n",
    "\n",
    "X_train, X_test, y_train, y_test = train_test_split(X,y, test_size=0.2, stratify=y, random_state=42)\n",
    "\n",
    "#searching for best parameters for random forest\n",
    "param_dist = {'n_estimators': [50,100,150,200,250],\n",
    "               \"max_features\": [1,2,3,4,5,6,7,8,9],\n",
    "               'max_depth': [1,2,3,4,5,6,7,8,9],\n",
    "               \"criterion\": [\"gini\", \"entropy\"]}\n",
    "\n",
    "rf = RandomForestClassifier()\n",
    "\n",
    "rf_cv = RandomizedSearchCV(rf, param_distributions = param_dist, \n",
    "                           cv = 5, random_state=0, n_jobs = -1)\n",
    "\n",
    "rf_cv.fit(X, y)\n",
    "\n",
    "print(\"Tuned Random Forest Parameters: %s\" % (rf_cv.best_params_))"
   ]
  },
  {
   "cell_type": "code",
   "execution_count": null,
   "id": "e5954590",
   "metadata": {},
   "outputs": [],
   "source": [
    "Ran = RandomForestClassifier(criterion= 'gini', max_depth= 6, \n",
    "                                     max_features= 5, n_estimators= 150, \n",
    "                                     random_state=0)\n",
    "Ran.fit(X_train, y_train) # model training\n",
    "y_pred = Ran.predict(X_test)\n",
    "print('Accuracy:', metrics.accuracy_score(y_pred,y_test))\n",
    "\n",
    "## 5-fold cross-validation \n",
    "cv_scores =cross_val_score(Ran, X, y, cv=5)\n",
    "\n",
    "# Print the 5-fold cross-validation scores\n",
    "print()\n",
    "print(classification_report(y_test, y_pred))\n",
    "print()\n",
    "print(\"Average 5-Fold CV Score: {}\".format(round(np.mean(cv_scores),4)),\n",
    "      \", Standard deviation: {}\".format(round(np.std(cv_scores),4)))\n",
    "\n",
    "plt.figure(figsize=(4,3))\n",
    "ConfMatrix = confusion_matrix(y_test,Ran.predict(X_test))\n",
    "sns.heatmap(ConfMatrix,annot=True, cmap=\"Blues\", fmt=\"d\", \n",
    "            xticklabels = ['Non-default', 'Default'], \n",
    "            yticklabels = ['Non-default', 'Default'])\n",
    "plt.ylabel('True label')\n",
    "plt.xlabel('Predicted label')\n",
    "plt.title(\"Confusion Matrix - Random Forest\");"
   ]
  },
  {
   "cell_type": "code",
   "execution_count": 30,
   "id": "dd0c63f4",
   "metadata": {},
   "outputs": [],
   "source": [
    "#equalising the no of labels in dataset\n",
    "data_t = data.loc[data[\"Default\"] == 0]\n",
    "data_f = data.loc[data[\"Default\"] == 1]\n",
    "data_t1 = data_t[:2*len(data_f)]\n",
    "data_new=pd.concat([data_t1, data_f])# rearranging labels for training of data\n",
    "data_new[\"Default\"].value_counts()"
   ]
  },
  {
   "cell_type": "code",
   "execution_count": 32,
   "id": "d4798615",
   "metadata": {},
   "outputs": [
    {
     "name": "stdout",
     "output_type": "stream",
     "text": [
      "Tuned Random Forest Parameters: {'n_estimators': 200, 'max_features': 6, 'max_depth': 5, 'criterion': 'entropy'}\n"
     ]
    }
   ],
   "source": [
    "# Original data\n",
    "X = data_new.drop('Default', axis=1)  \n",
    "y = data_new['Default']\n",
    "\n",
    "X_train, X_test, y_train, y_test = train_test_split(X,y, test_size=0.2, stratify=y, random_state=42)\n",
    "\n",
    "\n",
    "param_dist = {'n_estimators': [50,100,150,200,250],\n",
    "               \"max_features\": [1,2,3,4,5,6,7,8,9],\n",
    "               'max_depth': [1,2,3,4,5,6,7,8,9],\n",
    "               \"criterion\": [\"gini\", \"entropy\"]}\n",
    "\n",
    "rf = RandomForestClassifier()\n",
    "\n",
    "rf_cv = RandomizedSearchCV(rf, param_distributions = param_dist, \n",
    "                           cv = 5, random_state=0, n_jobs = -1)\n",
    "\n",
    "rf_cv.fit(X, y)\n",
    "\n",
    "print(\"Tuned Random Forest Parameters: %s\" % (rf_cv.best_params_))"
   ]
  },
  {
   "cell_type": "code",
   "execution_count": 33,
   "id": "5bc6887b",
   "metadata": {},
   "outputs": [
    {
     "name": "stdout",
     "output_type": "stream",
     "text": [
      "Accuracy: 0.7528879959819186\n",
      "\n",
      "              precision    recall  f1-score   support\n",
      "\n",
      "           0       0.76      0.92      0.83      2655\n",
      "           1       0.72      0.43      0.54      1327\n",
      "\n",
      "    accuracy                           0.75      3982\n",
      "   macro avg       0.74      0.67      0.68      3982\n",
      "weighted avg       0.75      0.75      0.73      3982\n",
      "\n",
      "\n",
      "Average 5-Fold CV Score: 0.7563 , Standard deviation: 0.0108\n"
     ]
    },
    {
     "data": {
      "image/png": "[encoded data removed]",
      "text/plain": [
       "<Figure size 288x216 with 2 Axes>"
      ]
     },
     "metadata": {
      "needs_background": "light"
     },
     "output_type": "display_data"
    }
   ],
   "source": [
    "Ran = RandomForestClassifier(criterion= 'gini', max_depth= 6, \n",
    "                                     max_features= 5, n_estimators= 150, \n",
    "                                     random_state=0)\n",
    "Ran.fit(X_train, y_train)\n",
    "y_pred = Ran.predict(X_test)\n",
    "print('Accuracy:', metrics.accuracy_score(y_pred,y_test))\n",
    "\n",
    "## 5-fold cross-validation \n",
    "cv_scores =cross_val_score(Ran, X, y, cv=5)\n",
    "\n",
    "# Print the 5-fold cross-validation scores\n",
    "print()\n",
    "print(classification_report(y_test, y_pred))\n",
    "print()\n",
    "print(\"Average 5-Fold CV Score: {}\".format(round(np.mean(cv_scores),4)),\n",
    "      \", Standard deviation: {}\".format(round(np.std(cv_scores),4)))\n",
    "\n",
    "plt.figure(figsize=(4,3))\n",
    "ConfMatrix = confusion_matrix(y_test,Ran.predict(X_test))\n",
    "sns.heatmap(ConfMatrix,annot=True, cmap=\"Blues\", fmt=\"d\", \n",
    "            xticklabels = ['Non-default', 'Default'], \n",
    "            yticklabels = ['Non-default', 'Default'])\n",
    "plt.ylabel('True label')\n",
    "plt.xlabel('Predicted label')\n",
    "plt.title(\"Confusion Matrix - Random Forest\");"
   ]
  },
  {
   "cell_type": "code",
   "execution_count": 34,
   "id": "abd07cd6",
   "metadata": {},
   "outputs": [],
   "source": [
    "#predicting the lables for recreated data\n",
    "X_t = data_rec.drop('Default', axis=1)\n",
    "y_pred = Ran.predict(X_t)\n",
    "data_rec['Default'] = y_pred"
   ]
  },
  {
   "cell_type": "code",
   "execution_count": 35,
   "id": "63f7c409",
   "metadata": {},
   "outputs": [
    {
     "data": {
      "text/plain": [
       "0    27574\n",
       "1     2426\n",
       "Name: Default, dtype: int64"
      ]
     },
     "execution_count": 35,
     "metadata": {},
     "output_type": "execute_result"
    }
   ],
   "source": [
    "data_rec[\"Default\"].value_counts()"
   ]
  },
  {
   "cell_type": "code",
   "execution_count": 36,
   "id": "f9781801",
   "metadata": {},
   "outputs": [
    {
     "name": "stdout",
     "output_type": "stream",
     "text": [
      "Tuned Random Forest Parameters: {'n_estimators': 200, 'max_features': 6, 'max_depth': 5, 'criterion': 'entropy'}\n"
     ]
    }
   ],
   "source": [
    "#trainign of model with recreated data with prdicted labels\n",
    "X = data_rec.drop('Default', axis=1)  \n",
    "y = data_rec['Default']\n",
    "\n",
    "\n",
    "\n",
    "\n",
    "\n",
    "param_dist = {'n_estimators': [50,100,150,200,250],\n",
    "               \"max_features\": [1,2,3,4,5,6,7,8,9],\n",
    "               'max_depth': [1,2,3,4,5,6,7,8,9],\n",
    "               \"criterion\": [\"gini\", \"entropy\"]}\n",
    "\n",
    "rf = RandomForestClassifier()\n",
    "\n",
    "rf_cv = RandomizedSearchCV(rf, param_distributions = param_dist, \n",
    "                           cv = 5, random_state=0, n_jobs = -1)\n",
    "\n",
    "rf_cv.fit(X, y)\n",
    "\n",
    "print(\"Tuned Random Forest Parameters: %s\" % (rf_cv.best_params_))"
   ]
  },
  {
   "cell_type": "code",
   "execution_count": 38,
   "id": "636cb9fc",
   "metadata": {},
   "outputs": [],
   "source": [
    "Ran = RandomForestClassifier(criterion= 'gini', max_depth= 6, \n",
    "                                     max_features= 5, n_estimators= 150, \n",
    "                                     random_state=0)\n",
    "Ran.fit(X, y)"
   ]
  },
  {
   "cell_type": "code",
   "execution_count": 39,
   "id": "dc259880",
   "metadata": {},
   "outputs": [
    {
     "name": "stdout",
     "output_type": "stream",
     "text": [
      "Accuracy: 0.819\n",
      "\n",
      "              precision    recall  f1-score   support\n",
      "\n",
      "           0       0.83      0.96      0.89      4673\n",
      "           1       0.69      0.33      0.45      1327\n",
      "\n",
      "    accuracy                           0.82      6000\n",
      "   macro avg       0.76      0.64      0.67      6000\n",
      "weighted avg       0.80      0.82      0.79      6000\n",
      "\n",
      "\n",
      "Average 5-Fold CV Score: 0.8205 , Standard deviation: 0.0096\n"
     ]
    },
    {
     "data": {
      "image/png": "[encoded data removed]",
      "text/plain": [
       "<Figure size 288x216 with 2 Axes>"
      ]
     },
     "metadata": {
      "needs_background": "light"
     },
     "output_type": "display_data"
    }
   ],
   "source": [
    "#testing new model with original test set\n",
    "y_pred = Ran.predict(X_test)\n",
    "print('Accuracy:', metrics.accuracy_score(y_pred,y_test))\n",
    "## 5-fold cross-validation \n",
    "cv_scores =cross_val_score(Ran, X, y, cv=5)\n",
    "\n",
    "# Print the 5-fold cross-validation scores\n",
    "print()\n",
    "print(classification_report(y_test, y_pred))\n",
    "print()\n",
    "print(\"Average 5-Fold CV Score: {}\".format(round(np.mean(cv_scores),4)),\n",
    "      \", Standard deviation: {}\".format(round(np.std(cv_scores),4)))\n",
    "\n",
    "plt.figure(figsize=(4,3))\n",
    "ConfMatrix = confusion_matrix(y_test,Ran.predict(X_test))\n",
    "sns.heatmap(ConfMatrix,annot=True, cmap=\"Blues\", fmt=\"d\", \n",
    "            xticklabels = ['Non-default', 'Default'], \n",
    "            yticklabels = ['Non-default', 'Default'])\n",
    "plt.ylabel('True label')\n",
    "plt.xlabel('Predicted label')\n",
    "plt.title(\"Confusion Matrix - Random Forest\");"
   ]
  },
  {
   "cell_type": "code",
   "execution_count": null,
   "id": "760a5ea5",
   "metadata": {},
   "outputs": [],
   "source": []
  }
 ],
 "metadata": {
  "kernelspec": {
   "display_name": "Python 3",
   "language": "python",
   "name": "python3"
  },
  "language_info": {
   "codemirror_mode": {
    "name": "ipython",
    "version": 3
   },
   "file_extension": ".py",
   "mimetype": "text/x-python",
   "name": "python",
   "nbconvert_exporter": "python",
   "pygments_lexer": "ipython3",
   "version": "3.8.8"
  }
 },
 "nbformat": 4,
 "nbformat_minor": 5
}
